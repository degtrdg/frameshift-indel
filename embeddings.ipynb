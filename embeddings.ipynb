{
  "cells": [
    {
      "attachments": {},
      "cell_type": "markdown",
      "metadata": {},
      "source": [
        "# Get embeddings for all genes\n",
        "- get the data https://www.uniprot.org/help/downloads\n",
        "  - https://ftp.uniprot.org/pub/databases/uniprot/current_release/knowledgebase/embeddings/\n",
        "    - https://ftp.uniprot.org/pub/databases/uniprot/current_release/knowledgebase/embeddings/uniprot_sprot/\n",
        "      - Download per-protein.h5\n",
        "  - https://ftp.uniprot.org/pub/databases/uniprot/current_release/knowledgebase/embeddings/README\n",
        "    - One thing to note in the README is that:\n",
        "      - 'Note: Protein sequences longer than 12k residues are excluded due to limitation of GPU memory (this concerns only a handful of proteins).'\n",
        "  - As seen below, we have most of the embeddings but some of them weren't available"
      ]
    },
    {
      "cell_type": "code",
      "execution_count": 17,
      "metadata": {},
      "outputs": [],
      "source": [
        "import h5py\n",
        "import pandas as pd\n",
        "import pandas as pd\n",
        "import numpy as np\n",
        "\n",
        "# Open the h5 file in read-only mode\n",
        "with h5py.File('data/per-protein.h5', 'r') as f:\n",
        "    # Read in human_genes_nfs.csv\n",
        "    df = pd.read_csv('./data/human_genes_nfs.csv')\n",
        "    # Make 'Accession Number' the index and remove the first column\n",
        "    df = df.set_index('Accession Number')\n",
        "    df = df.drop('Unnamed: 0', axis=1)\n",
        "    # Create a list to hold the data\n",
        "    data = []\n",
        "    \n",
        "    # Iterate over the keys in the h5 file\n",
        "    for key in f.keys():\n",
        "        # Get the embedding for this key\n",
        "        embedding = f[key][:]\n",
        "        \n",
        "        if key in df.index:\n",
        "            # Wrap the embedding in a 2D array\n",
        "            embedding = np.array([embedding])\n",
        "        \n",
        "            # Add the key and embedding to the list\n",
        "            data.append((key, embedding))\n",
        "    \n",
        "    # Convert the list to a pandas DataFrame\n",
        "    df = pd.DataFrame(data, columns=['key', 'embedding'])\n",
        "    \n",
        "    # Save the dataframe to a new csv\n",
        "    df.to_pickle('./data/human_genes_nfs_embeddings.pkl')"
      ]
    },
    {
      "cell_type": "code",
      "execution_count": 19,
      "metadata": {},
      "outputs": [],
      "source": [
        "df_embeddings = pd.read_pickle('./data/human_genes_nfs_embeddings.pkl')"
      ]
    },
    {
      "cell_type": "code",
      "execution_count": 21,
      "metadata": {},
      "outputs": [
        {
          "name": "stdout",
          "output_type": "stream",
          "text": [
            "<class 'pandas.core.frame.DataFrame'>\n",
            "RangeIndex: 20326 entries, 0 to 20325\n",
            "Data columns (total 2 columns):\n",
            " #   Column     Non-Null Count  Dtype \n",
            "---  ------     --------------  ----- \n",
            " 0   key        20326 non-null  object\n",
            " 1   embedding  20326 non-null  object\n",
            "dtypes: object(2)\n",
            "memory usage: 317.7+ KB\n"
          ]
        }
      ],
      "source": [
        "# Get information about the DataFrame\n",
        "df_embeddings.info()"
      ]
    },
    {
      "cell_type": "code",
      "execution_count": 22,
      "metadata": {},
      "outputs": [
        {
          "name": "stdout",
          "output_type": "stream",
          "text": [
            "<class 'pandas.core.frame.DataFrame'>\n",
            "Index: 20591 entries, A0A075B6Y1 to Q9Y5J6\n",
            "Data columns (total 4 columns):\n",
            " #   Column       Non-Null Count  Dtype  \n",
            "---  ------       --------------  -----  \n",
            " 0   Name         20591 non-null  object \n",
            " 1   AA Sequence  20591 non-null  object \n",
            " 2   NT Sequence  4683 non-null   object \n",
            " 3   Score        20591 non-null  float64\n",
            "dtypes: float64(1), object(3)\n",
            "memory usage: 804.3+ KB\n"
          ]
        }
      ],
      "source": [
        "# Read in human_genes_nfs.csv\n",
        "import pandas as pd\n",
        "\n",
        "df = pd.read_csv('./data/human_genes_nfs.csv')\n",
        "# Make 'Accession Number' the index and remove the first column\n",
        "df = df.set_index('Accession Number')\n",
        "df = df.drop('Unnamed: 0', axis=1)\n",
        "df.info()"
      ]
    },
    {
      "cell_type": "code",
      "execution_count": 7,
      "metadata": {},
      "outputs": [],
      "source": [
        "# I want to know the unique values in Score\n",
        "len(df['Score'].unique()), len(df['Score'])"
      ]
    }
  ],
  "metadata": {
    "kernelspec": {
      "display_name": "base",
      "language": "python",
      "name": "python3"
    },
    "language_info": {
      "codemirror_mode": {
        "name": "ipython",
        "version": 3
      },
      "file_extension": ".py",
      "mimetype": "text/x-python",
      "name": "python",
      "nbconvert_exporter": "python",
      "pygments_lexer": "ipython3",
      "version": "3.9.15"
    },
    "orig_nbformat": 4
  },
  "nbformat": 4,
  "nbformat_minor": 2
}
